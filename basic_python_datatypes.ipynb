{
 "cells": [
  {
   "cell_type": "code",
   "execution_count": 4,
   "metadata": {},
   "outputs": [
    {
     "data": {
      "text/plain": [
       "(5, int)"
      ]
     },
     "execution_count": 4,
     "metadata": {},
     "output_type": "execute_result"
    }
   ],
   "source": [
    "x = 5\n",
    "x, type(x)"
   ]
  },
  {
   "cell_type": "markdown",
   "metadata": {},
   "source": [
    "Basic Markdown Syntax\n",
    "\n",
    "# This is a Heading\n",
    "## This is a Heading 2\n",
    "### This is a Heading 3\n",
    "\n",
    "Regular text\n",
    "\n",
    "**Bold Text**\n",
    "\n",
    "*Italic Text*\n",
    "\n",
    "Bullet Points\n",
    "* Point 1\n",
    "* Point 2\n",
    "\n",
    "Numbered Points\n",
    "\n",
    "1. Point 1\n",
    "2. Point 2"
   ]
  },
  {
   "cell_type": "code",
   "execution_count": 5,
   "metadata": {},
   "outputs": [
    {
     "name": "stdout",
     "output_type": "stream",
     "text": [
      "I am learning Python\n",
      "5\n",
      "'5'\n",
      "This is a \n",
      "multiline string\n",
      "Escaping a character ''\n",
      "this is how you create a \n",
      " newline, which is kind of like hitting the enter key\n"
     ]
    }
   ],
   "source": [
    "z = \"I am learning Python\" # A very basic string\n",
    "\n",
    "a = \"5\" # The number \"5\" as a string\n",
    "\n",
    "a = '5' # Single quotations to create a string\n",
    "\n",
    "a_two = \"'5'\" # Surround one type of quotation with another one to make that quotation part of the string\n",
    "\n",
    "b = \"\"\"This is a \n",
    "multiline string\"\"\" # Triple quotes to denote a multiline string\n",
    "\n",
    "c = \"Escaping a character \\''\" # Use a \"\\\" to \"escape a character\" meaning that you'll print that character as is. This is useful for when you need to use special characters like single quotes\n",
    "\n",
    "d = \"this is how you create a \\n newline, which is kind of like hitting the enter key\" # Use \"\\n\" to denote a newline\n",
    "\n",
    "print(z) # Use the \"print\" function to look at all of these outputs\n",
    "print(a)\n",
    "print(a_two)\n",
    "print(b)\n",
    "print(c)\n",
    "print(d)"
   ]
  },
  {
   "cell_type": "code",
   "execution_count": 8,
   "metadata": {},
   "outputs": [
    {
     "name": "stdout",
     "output_type": "stream",
     "text": [
      "I\n",
      "I a\n",
      "m le\n"
     ]
    }
   ],
   "source": [
    "print(z[0])     # this is called slicing, allowing me to access a part of the variable\n",
    "print(z[0:3])\n",
    "print(z[3:7])"
   ]
  },
  {
   "cell_type": "markdown",
   "metadata": {},
   "source": [
    "List / Arrays: Python does not have an Array type per say, but something called a List that more or less serves the same function"
   ]
  },
  {
   "cell_type": "code",
   "execution_count": 9,
   "metadata": {},
   "outputs": [
    {
     "data": {
      "text/plain": [
       "['asdas', 5, 4, 3, 2, 1]"
      ]
     },
     "execution_count": 9,
     "metadata": {},
     "output_type": "execute_result"
    }
   ],
   "source": [
    "a_list = [1, 2, 3, 4, 5, \"asdas\"] # This is a list\n",
    "a_list[:3] # They can be sliced the same way strings are\n",
    "a_list[::-1] # Here is an easy way to reverse a list"
   ]
  },
  {
   "cell_type": "markdown",
   "metadata": {},
   "source": [
    "Tuple: (pronounced \"tupp-el\") This is the same thing as a list but the elements inside cannot be changed. I very rarely use them and their mostly the result of outputs from other Python libraries"
   ]
  },
  {
   "cell_type": "code",
   "execution_count": 10,
   "metadata": {},
   "outputs": [
    {
     "data": {
      "text/plain": [
       "('asdas', 5, 4, 3, 2, 1)"
      ]
     },
     "execution_count": 10,
     "metadata": {},
     "output_type": "execute_result"
    }
   ],
   "source": [
    "a_tuple = (1, 2, 3, 4, 5, \"asdas\") # This is a tuple\n",
    "a_tuple[:3] # They can be sliced the same way strings are\n",
    "a_tuple[::-1] # Here is an easy way to reverse a tuple"
   ]
  },
  {
   "cell_type": "code",
   "execution_count": 11,
   "metadata": {},
   "outputs": [
    {
     "data": {
      "text/plain": [
       "(list, tuple)"
      ]
     },
     "execution_count": 11,
     "metadata": {},
     "output_type": "execute_result"
    }
   ],
   "source": [
    "type(a_list), type(a_tuple)"
   ]
  },
  {
   "cell_type": "markdown",
   "metadata": {},
   "source": [
    "Dictionary: These are key-value pairs and can be quite useful when we start working with tables"
   ]
  },
  {
   "cell_type": "code",
   "execution_count": 12,
   "metadata": {},
   "outputs": [
    {
     "data": {
      "text/plain": [
       "'value'"
      ]
     },
     "execution_count": 12,
     "metadata": {},
     "output_type": "execute_result"
    }
   ],
   "source": [
    "a_dictionary = {\"key\":\"value\", \"multiple_values\":[\"more\", \"than\", \"one\", \"value\", \"per\", \"key\"]} # This is a dictionary\n",
    "a_dictionary.get(\"multiple_values\") # This gets the key with a certain value\n",
    "a_dictionary[\"key\"] # This is another way of finding keys"
   ]
  },
  {
   "cell_type": "markdown",
   "metadata": {},
   "source": [
    "Set: A Set is an unordered, unchangeable way to store multiple variables without duplicates"
   ]
  },
  {
   "cell_type": "code",
   "execution_count": 13,
   "metadata": {},
   "outputs": [],
   "source": [
    "a_set = {\"Value\", \"first\", \"third\"}"
   ]
  },
  {
   "cell_type": "code",
   "execution_count": 14,
   "metadata": {},
   "outputs": [
    {
     "data": {
      "text/plain": [
       "(list, tuple, dict, set)"
      ]
     },
     "execution_count": 14,
     "metadata": {},
     "output_type": "execute_result"
    }
   ],
   "source": [
    "type(a_list), type(a_tuple), type(a_dictionary), type(a_set)"
   ]
  },
  {
   "cell_type": "code",
   "execution_count": 15,
   "metadata": {},
   "outputs": [
    {
     "name": "stdout",
     "output_type": "stream",
     "text": [
      "4\n",
      "strstrr\n",
      "[1, 2, 3, 4, 5, 1, 2]\n",
      "2\n",
      "9\n",
      "strstrstr\n",
      "[1, 2, 3, 1, 2, 3, 1, 2, 3]\n",
      "1.0\n",
      "1\n",
      "3\n"
     ]
    }
   ],
   "source": [
    "add = 2 + 2\n",
    "add_str = \"str\" + \"strr\"\n",
    "add_list = [1, 2, 3, 4, 5] + [1, 2]\n",
    "\n",
    "sub = 3 - 1\n",
    "\n",
    "mult = 3 * 3\n",
    "mult_str = \"str\" * 3\n",
    "mult_list = [1, 2, 3] * 3\n",
    "\n",
    "div = 2 / 2\n",
    "\n",
    "modulo = 10%3 # Gives you the the remainder of a division operation\n",
    "\n",
    "floor_division = 7 // 2 # Gives you the largest multiple, in this case it's 3 \n",
    "\n",
    "print(add)\n",
    "print(add_str)\n",
    "print(add_list)\n",
    "print(sub)\n",
    "print(mult)\n",
    "print(mult_str)\n",
    "print(mult_list)\n",
    "print(div)\n",
    "print(modulo)\n",
    "print(floor_division)"
   ]
  },
  {
   "cell_type": "markdown",
   "metadata": {},
   "source": [
    "**Assignment Operators**\n",
    "\n",
    "You can use these to quickly change the values of variables. You can see more information on these at [https://www.w3schools.com/python/python_operators.asp](https://www.w3schools.com/python/python_operators.asp)"
   ]
  },
  {
   "cell_type": "markdown",
   "metadata": {},
   "source": [
    "**Comparison Operators**\n",
    "\n",
    "Comparison operators help us compare different values to one another. They are very useful in conditional statements and can help you write more logically complex code."
   ]
  },
  {
   "cell_type": "code",
   "execution_count": 17,
   "metadata": {},
   "outputs": [
    {
     "name": "stdout",
     "output_type": "stream",
     "text": [
      "True\n",
      "True\n",
      "False\n",
      "True\n",
      "True\n",
      "True\n"
     ]
    }
   ],
   "source": [
    "print(3 == 3) # Equals\n",
    "\n",
    "print(3 != 4) # Does not equal\n",
    "\n",
    "print(3 > 4) # Greater than\n",
    "\n",
    "print(3 < 5) # Less than\n",
    "\n",
    "print(2 >= 2) # Greater than or equal to\n",
    "\n",
    "print(4 <= 4) # Less than or equal to"
   ]
  },
  {
   "cell_type": "markdown",
   "metadata": {},
   "source": [
    "**Bitwise Operators**\n",
    "\n",
    "These are from the Python website: [https://wiki.python.org/moin/BitwiseOperators](https://wiki.python.org/moin/BitwiseOperators)\n",
    "\n",
    "You'll see us use them to filter tables in pandas later in the course. \n",
    "\n",
    "**x << y:** Returns x with the bits shifted to the left by y places (and new bits on the right-hand-side are zeros). This is the same as multiplying x by 2**y.\n",
    "\n",
    "**x >> y:** Returns x with the bits shifted to the right by y places. This is the same as //'ing x by 2**y\n",
    "\n",
    "**x & y:** Does a \"bitwise and\". Each bit of the output is 1 if the corresponding bit of x AND of y is 1, otherwise it's 0.\n",
    "\n",
    "**x | y:** Does a \"bitwise or\". Each bit of the output is 0 if the corresponding bit of x AND of y is 0, otherwise it's 1.\n",
    "\n",
    "**~ x:** Returns the complement of x - the number you get by switching each 1 for a 0 and each 0 for a 1. This is the same as -x - 1.\n",
    "\n",
    "**x ^ y:** Does a \"bitwise exclusive or\". Each bit of the output is the same as the corresponding bit in x if that bit in y is 0, and it's the complement of the bit in x if that bit in y is 1."
   ]
  },
  {
   "cell_type": "markdown",
   "metadata": {},
   "source": [
    "**Logical Operators**\n",
    "\n",
    "These are used to string together different comparison operators. We'll be using this when we're filtering tables"
   ]
  },
  {
   "cell_type": "code",
   "execution_count": 19,
   "metadata": {},
   "outputs": [
    {
     "name": "stdout",
     "output_type": "stream",
     "text": [
      "True\n",
      "True\n",
      "False\n"
     ]
    }
   ],
   "source": [
    "print(3 == 3 and 2 <= 5) # Returns true if both operations are true\n",
    "print(3 == 3 or 2 <= 1) # Returns true if one operation is true\n",
    "print(not(3 == 3 and 2 <= 5)) # Returns the opposite (False in this case)"
   ]
  },
  {
   "cell_type": "markdown",
   "metadata": {},
   "source": [
    "**Membership Operations**\n",
    "\n",
    "These check to see if an object is a member of a collection of objects."
   ]
  },
  {
   "cell_type": "code",
   "execution_count": 21,
   "metadata": {},
   "outputs": [
    {
     "name": "stdout",
     "output_type": "stream",
     "text": [
      "True\n",
      "True\n"
     ]
    }
   ],
   "source": [
    "print(\"T\" in \"TRDFSADFASD\")\n",
    "print(\"z\" not in [\"a\", 123, 14, 41, 41, 4])"
   ]
  },
  {
   "cell_type": "markdown",
   "metadata": {},
   "source": [
    "### Functions\n",
    "\n",
    "If you find yourself writing the same code over and over again you might need a function. A function basically allows to you create a code snippet that takes inputs and produces outputs."
   ]
  },
  {
   "cell_type": "code",
   "execution_count": 24,
   "metadata": {},
   "outputs": [
    {
     "name": "stdout",
     "output_type": "stream",
     "text": [
      "6\n",
      "6\n",
      "7\n"
     ]
    }
   ],
   "source": [
    "def function_name(x, y, z):\n",
    "\treturn x + y + z # The \"return\" tells Python what to output from a function\n",
    "\n",
    "print(function_name(x = 1, y = 2, z = 3)) # This is how we call a function\n",
    "print(function_name(1, 2, 3)) # You can also call it like this by letting Python assume your arguments are in order \n",
    "print(function_name(1, 2, z = 4)) # You can also not specify earlier arguments, but specify later ones\n",
    "#function_name(x = 1, 2, 3) # This is not valid (Python doesn't know what arguments to match 2 and 3 with"
   ]
  }
 ],
 "metadata": {
  "kernelspec": {
   "display_name": "Python 3.9.4 64-bit",
   "language": "python",
   "name": "python3"
  },
  "language_info": {
   "codemirror_mode": {
    "name": "ipython",
    "version": 3
   },
   "file_extension": ".py",
   "mimetype": "text/x-python",
   "name": "python",
   "nbconvert_exporter": "python",
   "pygments_lexer": "ipython3",
   "version": "3.9.4"
  },
  "orig_nbformat": 4,
  "vscode": {
   "interpreter": {
    "hash": "ac2eaa0ea0ebeafcc7822e65e46aa9d4f966f30b695406963e145ea4a91cd4fc"
   }
  }
 },
 "nbformat": 4,
 "nbformat_minor": 2
}
