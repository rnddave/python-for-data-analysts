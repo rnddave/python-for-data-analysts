{
 "cells": [
  {
   "cell_type": "code",
   "execution_count": 4,
   "metadata": {},
   "outputs": [
    {
     "data": {
      "text/plain": [
       "(5, int)"
      ]
     },
     "execution_count": 4,
     "metadata": {},
     "output_type": "execute_result"
    }
   ],
   "source": [
    "x = 5\n",
    "x, type(x)"
   ]
  },
  {
   "cell_type": "markdown",
   "metadata": {},
   "source": [
    "Basic Markdown Syntax\n",
    "\n",
    "# This is a Heading\n",
    "## This is a Heading 2\n",
    "### This is a Heading 3\n",
    "\n",
    "Regular text\n",
    "\n",
    "**Bold Text**\n",
    "\n",
    "*Italic Text*\n",
    "\n",
    "Bullet Points\n",
    "* Point 1\n",
    "* Point 2\n",
    "\n",
    "Numbered Points\n",
    "\n",
    "1. Point 1\n",
    "2. Point 2"
   ]
  },
  {
   "cell_type": "code",
   "execution_count": 5,
   "metadata": {},
   "outputs": [
    {
     "name": "stdout",
     "output_type": "stream",
     "text": [
      "I am learning Python\n",
      "5\n",
      "'5'\n",
      "This is a \n",
      "multiline string\n",
      "Escaping a character ''\n",
      "this is how you create a \n",
      " newline, which is kind of like hitting the enter key\n"
     ]
    }
   ],
   "source": [
    "z = \"I am learning Python\" # A very basic string\n",
    "\n",
    "a = \"5\" # The number \"5\" as a string\n",
    "\n",
    "a = '5' # Single quotations to create a string\n",
    "\n",
    "a_two = \"'5'\" # Surround one type of quotation with another one to make that quotation part of the string\n",
    "\n",
    "b = \"\"\"This is a \n",
    "multiline string\"\"\" # Triple quotes to denote a multiline string\n",
    "\n",
    "c = \"Escaping a character \\''\" # Use a \"\\\" to \"escape a character\" meaning that you'll print that character as is. This is useful for when you need to use special characters like single quotes\n",
    "\n",
    "d = \"this is how you create a \\n newline, which is kind of like hitting the enter key\" # Use \"\\n\" to denote a newline\n",
    "\n",
    "print(z) # Use the \"print\" function to look at all of these outputs\n",
    "print(a)\n",
    "print(a_two)\n",
    "print(b)\n",
    "print(c)\n",
    "print(d)"
   ]
  },
  {
   "cell_type": "code",
   "execution_count": 8,
   "metadata": {},
   "outputs": [
    {
     "name": "stdout",
     "output_type": "stream",
     "text": [
      "I\n",
      "I a\n",
      "m le\n"
     ]
    }
   ],
   "source": [
    "print(z[0])     # this is called slicing, allowing me to access a part of the variable\n",
    "print(z[0:3])\n",
    "print(z[3:7])"
   ]
  },
  {
   "cell_type": "markdown",
   "metadata": {},
   "source": [
    "List / Arrays: Python does not have an Array type per say, but something called a List that more or less serves the same function"
   ]
  },
  {
   "cell_type": "code",
   "execution_count": 9,
   "metadata": {},
   "outputs": [
    {
     "data": {
      "text/plain": [
       "['asdas', 5, 4, 3, 2, 1]"
      ]
     },
     "execution_count": 9,
     "metadata": {},
     "output_type": "execute_result"
    }
   ],
   "source": [
    "a_list = [1, 2, 3, 4, 5, \"asdas\"] # This is a list\n",
    "a_list[:3] # They can be sliced the same way strings are\n",
    "a_list[::-1] # Here is an easy way to reverse a list"
   ]
  },
  {
   "cell_type": "markdown",
   "metadata": {},
   "source": [
    "Tuple: (pronounced \"tupp-el\") This is the same thing as a list but the elements inside cannot be changed. I very rarely use them and their mostly the result of outputs from other Python libraries"
   ]
  },
  {
   "cell_type": "code",
   "execution_count": 10,
   "metadata": {},
   "outputs": [
    {
     "data": {
      "text/plain": [
       "('asdas', 5, 4, 3, 2, 1)"
      ]
     },
     "execution_count": 10,
     "metadata": {},
     "output_type": "execute_result"
    }
   ],
   "source": [
    "a_tuple = (1, 2, 3, 4, 5, \"asdas\") # This is a tuple\n",
    "a_tuple[:3] # They can be sliced the same way strings are\n",
    "a_tuple[::-1] # Here is an easy way to reverse a tuple"
   ]
  },
  {
   "cell_type": "code",
   "execution_count": 11,
   "metadata": {},
   "outputs": [
    {
     "data": {
      "text/plain": [
       "(list, tuple)"
      ]
     },
     "execution_count": 11,
     "metadata": {},
     "output_type": "execute_result"
    }
   ],
   "source": [
    "type(a_list), type(a_tuple)"
   ]
  },
  {
   "cell_type": "markdown",
   "metadata": {},
   "source": [
    "Dictionary: These are key-value pairs and can be quite useful when we start working with tables"
   ]
  },
  {
   "cell_type": "code",
   "execution_count": 12,
   "metadata": {},
   "outputs": [
    {
     "data": {
      "text/plain": [
       "'value'"
      ]
     },
     "execution_count": 12,
     "metadata": {},
     "output_type": "execute_result"
    }
   ],
   "source": [
    "a_dictionary = {\"key\":\"value\", \"multiple_values\":[\"more\", \"than\", \"one\", \"value\", \"per\", \"key\"]} # This is a dictionary\n",
    "a_dictionary.get(\"multiple_values\") # This gets the key with a certain value\n",
    "a_dictionary[\"key\"] # This is another way of finding keys"
   ]
  },
  {
   "cell_type": "markdown",
   "metadata": {},
   "source": [
    "Set: A Set is an unordered, unchangeable way to store multiple variables without duplicates"
   ]
  },
  {
   "cell_type": "code",
   "execution_count": 13,
   "metadata": {},
   "outputs": [],
   "source": [
    "a_set = {\"Value\", \"first\", \"third\"}"
   ]
  },
  {
   "cell_type": "code",
   "execution_count": 14,
   "metadata": {},
   "outputs": [
    {
     "data": {
      "text/plain": [
       "(list, tuple, dict, set)"
      ]
     },
     "execution_count": 14,
     "metadata": {},
     "output_type": "execute_result"
    }
   ],
   "source": [
    "type(a_list), type(a_tuple), type(a_dictionary), type(a_set)"
   ]
  },
  {
   "cell_type": "code",
   "execution_count": null,
   "metadata": {},
   "outputs": [],
   "source": []
  },
  {
   "cell_type": "code",
   "execution_count": null,
   "metadata": {},
   "outputs": [],
   "source": []
  }
 ],
 "metadata": {
  "kernelspec": {
   "display_name": "Python 3.9.4 64-bit",
   "language": "python",
   "name": "python3"
  },
  "language_info": {
   "codemirror_mode": {
    "name": "ipython",
    "version": 3
   },
   "file_extension": ".py",
   "mimetype": "text/x-python",
   "name": "python",
   "nbconvert_exporter": "python",
   "pygments_lexer": "ipython3",
   "version": "3.9.4"
  },
  "orig_nbformat": 4,
  "vscode": {
   "interpreter": {
    "hash": "ac2eaa0ea0ebeafcc7822e65e46aa9d4f966f30b695406963e145ea4a91cd4fc"
   }
  }
 },
 "nbformat": 4,
 "nbformat_minor": 2
}
