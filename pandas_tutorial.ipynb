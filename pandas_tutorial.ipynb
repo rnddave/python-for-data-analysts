{
 "cells": [
  {
   "cell_type": "markdown",
   "metadata": {},
   "source": [
    "# Pandas\n",
    "\n",
    "Pandas or \"Panel Data\" is the core library to handle structured data in Python. Structured data is just data in a tabular format (like in Excel). \n",
    "\n",
    "The core of Pandas is the DataFrame. A DataFrame is basically a table and is composed of Series. A Series is a set of values that are indexed. Try the code below."
   ]
  },
  {
   "cell_type": "code",
   "execution_count": 1,
   "metadata": {},
   "outputs": [
    {
     "name": "stdout",
     "output_type": "stream",
     "text": [
      "0    1\n",
      "1    2\n",
      "2    3\n",
      "3    6\n",
      "4    7\n",
      "dtype: int64\n"
     ]
    }
   ],
   "source": [
    "import pandas as pd\n",
    "\n",
    "series_test = [1, 2, 3, 6, 7]\n",
    "print(pd.Series(series_test))"
   ]
  },
  {
   "cell_type": "markdown",
   "metadata": {},
   "source": [
    "### DataFrames\n",
    "\n",
    "Although we've almost entirely created our own data throughout this process, you'll usually work with data that already exists. This is where the `read_***` method of Pandas comes in. This allows you to read in data from any number of data sources including:\n",
    "\n",
    "- CSVs\n",
    "- Excel\n",
    "- Stata\n",
    "- SAS\n",
    "- SPSS\n",
    "- SQL\n",
    "- Big Query\n",
    "- ORC\n",
    "- and much more!\n",
    "\n",
    "For this tutorial we'll be sticking mostly to reading CSV's because there usually are special setups you need to get right to read data from SQL databases. \n",
    "\n",
    "A CSV stands for \"comma-separated values\" and is a text format that separates each record with a comma and each line with a newline (\"enter\" key). It is part of a family of formats that include tab-separated values where the commas are separated by tabs, and pipe-separated values where the commas are separated by pipes (|). The commas, tabs, and pipes are what we call \"delimiters\"."
   ]
  },
  {
   "cell_type": "code",
   "execution_count": 3,
   "metadata": {},
   "outputs": [
    {
     "data": {
      "text/plain": [
       "'/Users/dickinsd/Github/python-for-data-analysts'"
      ]
     },
     "execution_count": 3,
     "metadata": {},
     "output_type": "execute_result"
    }
   ],
   "source": [
    "import os\n",
    "\n",
    "pwd = os.getcwd()\n",
    "\n",
    "pwd"
   ]
  },
  {
   "cell_type": "markdown",
   "metadata": {},
   "source": [
    "import os # This will be used to tell us where the file is\n",
    "import pandas as pd\n",
    "\n",
    "pwd = os.getcwd() # This creates a string of the folder this Python Script is stored in\n",
    "\n",
    "filepath = pwd + \"/simple_csv.csv\" # This creates a string that is the filepath to the simple_csv file\n",
    "\n",
    "first_import = pd.read_csv(filepath) # This reads the csv into Python\n",
    "first_import"
   ]
  },
  {
   "cell_type": "code",
   "execution_count": 5,
   "metadata": {},
   "outputs": [
    {
     "data": {
      "text/html": [
       "<div>\n",
       "<style scoped>\n",
       "    .dataframe tbody tr th:only-of-type {\n",
       "        vertical-align: middle;\n",
       "    }\n",
       "\n",
       "    .dataframe tbody tr th {\n",
       "        vertical-align: top;\n",
       "    }\n",
       "\n",
       "    .dataframe thead th {\n",
       "        text-align: right;\n",
       "    }\n",
       "</style>\n",
       "<table border=\"1\" class=\"dataframe\">\n",
       "  <thead>\n",
       "    <tr style=\"text-align: right;\">\n",
       "      <th></th>\n",
       "      <th>Column1</th>\n",
       "      <th>Column2</th>\n",
       "      <th>Column3</th>\n",
       "    </tr>\n",
       "  </thead>\n",
       "  <tbody>\n",
       "    <tr>\n",
       "      <th>0</th>\n",
       "      <td>0.280925</td>\n",
       "      <td>0.910368</td>\n",
       "      <td>0.692982</td>\n",
       "    </tr>\n",
       "    <tr>\n",
       "      <th>1</th>\n",
       "      <td>0.719882</td>\n",
       "      <td>0.210024</td>\n",
       "      <td>0.761276</td>\n",
       "    </tr>\n",
       "    <tr>\n",
       "      <th>2</th>\n",
       "      <td>0.235752</td>\n",
       "      <td>0.059796</td>\n",
       "      <td>0.154667</td>\n",
       "    </tr>\n",
       "    <tr>\n",
       "      <th>3</th>\n",
       "      <td>0.603366</td>\n",
       "      <td>0.485614</td>\n",
       "      <td>0.013345</td>\n",
       "    </tr>\n",
       "    <tr>\n",
       "      <th>4</th>\n",
       "      <td>0.039985</td>\n",
       "      <td>0.236359</td>\n",
       "      <td>0.811832</td>\n",
       "    </tr>\n",
       "    <tr>\n",
       "      <th>5</th>\n",
       "      <td>0.015478</td>\n",
       "      <td>0.543641</td>\n",
       "      <td>0.112719</td>\n",
       "    </tr>\n",
       "    <tr>\n",
       "      <th>6</th>\n",
       "      <td>0.192540</td>\n",
       "      <td>0.409874</td>\n",
       "      <td>0.875082</td>\n",
       "    </tr>\n",
       "    <tr>\n",
       "      <th>7</th>\n",
       "      <td>0.380921</td>\n",
       "      <td>0.045468</td>\n",
       "      <td>0.515859</td>\n",
       "    </tr>\n",
       "    <tr>\n",
       "      <th>8</th>\n",
       "      <td>0.592471</td>\n",
       "      <td>0.786421</td>\n",
       "      <td>0.047249</td>\n",
       "    </tr>\n",
       "    <tr>\n",
       "      <th>9</th>\n",
       "      <td>0.072112</td>\n",
       "      <td>0.695694</td>\n",
       "      <td>0.409573</td>\n",
       "    </tr>\n",
       "    <tr>\n",
       "      <th>10</th>\n",
       "      <td>0.898072</td>\n",
       "      <td>0.070956</td>\n",
       "      <td>0.209020</td>\n",
       "    </tr>\n",
       "    <tr>\n",
       "      <th>11</th>\n",
       "      <td>0.722038</td>\n",
       "      <td>0.211985</td>\n",
       "      <td>0.324164</td>\n",
       "    </tr>\n",
       "    <tr>\n",
       "      <th>12</th>\n",
       "      <td>0.513517</td>\n",
       "      <td>0.091548</td>\n",
       "      <td>0.664279</td>\n",
       "    </tr>\n",
       "    <tr>\n",
       "      <th>13</th>\n",
       "      <td>0.436729</td>\n",
       "      <td>0.040322</td>\n",
       "      <td>0.548167</td>\n",
       "    </tr>\n",
       "    <tr>\n",
       "      <th>14</th>\n",
       "      <td>0.864039</td>\n",
       "      <td>0.963556</td>\n",
       "      <td>0.106398</td>\n",
       "    </tr>\n",
       "    <tr>\n",
       "      <th>15</th>\n",
       "      <td>0.724761</td>\n",
       "      <td>0.410422</td>\n",
       "      <td>0.587589</td>\n",
       "    </tr>\n",
       "    <tr>\n",
       "      <th>16</th>\n",
       "      <td>0.198926</td>\n",
       "      <td>0.245207</td>\n",
       "      <td>0.767356</td>\n",
       "    </tr>\n",
       "    <tr>\n",
       "      <th>17</th>\n",
       "      <td>0.748500</td>\n",
       "      <td>0.019264</td>\n",
       "      <td>0.046678</td>\n",
       "    </tr>\n",
       "    <tr>\n",
       "      <th>18</th>\n",
       "      <td>0.920639</td>\n",
       "      <td>0.212611</td>\n",
       "      <td>0.520463</td>\n",
       "    </tr>\n",
       "    <tr>\n",
       "      <th>19</th>\n",
       "      <td>0.452024</td>\n",
       "      <td>0.123660</td>\n",
       "      <td>0.847451</td>\n",
       "    </tr>\n",
       "    <tr>\n",
       "      <th>20</th>\n",
       "      <td>0.542977</td>\n",
       "      <td>0.265852</td>\n",
       "      <td>0.410926</td>\n",
       "    </tr>\n",
       "    <tr>\n",
       "      <th>21</th>\n",
       "      <td>0.355266</td>\n",
       "      <td>0.860616</td>\n",
       "      <td>0.589431</td>\n",
       "    </tr>\n",
       "    <tr>\n",
       "      <th>22</th>\n",
       "      <td>0.142688</td>\n",
       "      <td>0.406456</td>\n",
       "      <td>0.204095</td>\n",
       "    </tr>\n",
       "    <tr>\n",
       "      <th>23</th>\n",
       "      <td>0.850436</td>\n",
       "      <td>0.129426</td>\n",
       "      <td>0.719027</td>\n",
       "    </tr>\n",
       "    <tr>\n",
       "      <th>24</th>\n",
       "      <td>0.443476</td>\n",
       "      <td>0.388967</td>\n",
       "      <td>0.596924</td>\n",
       "    </tr>\n",
       "    <tr>\n",
       "      <th>25</th>\n",
       "      <td>0.467100</td>\n",
       "      <td>0.416908</td>\n",
       "      <td>0.098037</td>\n",
       "    </tr>\n",
       "    <tr>\n",
       "      <th>26</th>\n",
       "      <td>0.338536</td>\n",
       "      <td>0.935814</td>\n",
       "      <td>0.736899</td>\n",
       "    </tr>\n",
       "    <tr>\n",
       "      <th>27</th>\n",
       "      <td>0.942101</td>\n",
       "      <td>0.772005</td>\n",
       "      <td>0.441574</td>\n",
       "    </tr>\n",
       "    <tr>\n",
       "      <th>28</th>\n",
       "      <td>0.570130</td>\n",
       "      <td>0.780085</td>\n",
       "      <td>0.085592</td>\n",
       "    </tr>\n",
       "  </tbody>\n",
       "</table>\n",
       "</div>"
      ],
      "text/plain": [
       "     Column1   Column2   Column3\n",
       "0   0.280925  0.910368  0.692982\n",
       "1   0.719882  0.210024  0.761276\n",
       "2   0.235752  0.059796  0.154667\n",
       "3   0.603366  0.485614  0.013345\n",
       "4   0.039985  0.236359  0.811832\n",
       "5   0.015478  0.543641  0.112719\n",
       "6   0.192540  0.409874  0.875082\n",
       "7   0.380921  0.045468  0.515859\n",
       "8   0.592471  0.786421  0.047249\n",
       "9   0.072112  0.695694  0.409573\n",
       "10  0.898072  0.070956  0.209020\n",
       "11  0.722038  0.211985  0.324164\n",
       "12  0.513517  0.091548  0.664279\n",
       "13  0.436729  0.040322  0.548167\n",
       "14  0.864039  0.963556  0.106398\n",
       "15  0.724761  0.410422  0.587589\n",
       "16  0.198926  0.245207  0.767356\n",
       "17  0.748500  0.019264  0.046678\n",
       "18  0.920639  0.212611  0.520463\n",
       "19  0.452024  0.123660  0.847451\n",
       "20  0.542977  0.265852  0.410926\n",
       "21  0.355266  0.860616  0.589431\n",
       "22  0.142688  0.406456  0.204095\n",
       "23  0.850436  0.129426  0.719027\n",
       "24  0.443476  0.388967  0.596924\n",
       "25  0.467100  0.416908  0.098037\n",
       "26  0.338536  0.935814  0.736899\n",
       "27  0.942101  0.772005  0.441574\n",
       "28  0.570130  0.780085  0.085592"
      ]
     },
     "execution_count": 5,
     "metadata": {},
     "output_type": "execute_result"
    }
   ],
   "source": [
    "filepath = pwd + \"/simple_csv.csv\"\n",
    "\n",
    "first_import = pd.read_csv(filepath)\n",
    "\n",
    "first_import"
   ]
  },
  {
   "cell_type": "markdown",
   "metadata": {},
   "source": [
    "You'll see here, if you want to read a specific sheet from an Excel file then you'll need to use the argument sheet_name\n",
    "\n",
    "> excel_import = pd.read_excel(filepath, sheet_name=\"Sheet1\")"
   ]
  },
  {
   "cell_type": "code",
   "execution_count": 8,
   "metadata": {},
   "outputs": [
    {
     "data": {
      "text/plain": [
       "0     0.280925\n",
       "1     0.719882\n",
       "2     0.235752\n",
       "3     0.603366\n",
       "4     0.039985\n",
       "5     0.015478\n",
       "6     0.192540\n",
       "7     0.380921\n",
       "8     0.592471\n",
       "9     0.072112\n",
       "10    0.898072\n",
       "11    0.722038\n",
       "12    0.513517\n",
       "13    0.436729\n",
       "14    0.864039\n",
       "15    0.724761\n",
       "16    0.198926\n",
       "17    0.748500\n",
       "18    0.920639\n",
       "19    0.452024\n",
       "20    0.542977\n",
       "21    0.355266\n",
       "22    0.142688\n",
       "23    0.850436\n",
       "24    0.443476\n",
       "25    0.467100\n",
       "26    0.338536\n",
       "27    0.942101\n",
       "28    0.570130\n",
       "Name: Column1, dtype: float64"
      ]
     },
     "execution_count": 8,
     "metadata": {},
     "output_type": "execute_result"
    }
   ],
   "source": [
    "first_import[\"Column1\"]"
   ]
  },
  {
   "cell_type": "markdown",
   "metadata": {},
   "source": [
    "first_import.Column1\n",
    "first_import[\"Column1\"] # You can use either of these techniques to specify a column in a table. I prefer the second one because it allows your column names to have spaces in them"
   ]
  },
  {
   "cell_type": "code",
   "execution_count": 10,
   "metadata": {},
   "outputs": [
    {
     "data": {
      "text/plain": [
       "14.265388315"
      ]
     },
     "execution_count": 10,
     "metadata": {},
     "output_type": "execute_result"
    }
   ],
   "source": [
    "sum(first_import.Column1) # just wanted to know if you can sum against a column"
   ]
  }
 ],
 "metadata": {
  "kernelspec": {
   "display_name": "Python 3.9.13 ('base')",
   "language": "python",
   "name": "python3"
  },
  "language_info": {
   "codemirror_mode": {
    "name": "ipython",
    "version": 3
   },
   "file_extension": ".py",
   "mimetype": "text/x-python",
   "name": "python",
   "nbconvert_exporter": "python",
   "pygments_lexer": "ipython3",
   "version": "3.9.13"
  },
  "orig_nbformat": 4,
  "vscode": {
   "interpreter": {
    "hash": "29ba88fc74c30cfb08fb6ce3b25c2ccd724cd11e96a643650e6c772fb9859a2d"
   }
  }
 },
 "nbformat": 4,
 "nbformat_minor": 2
}
