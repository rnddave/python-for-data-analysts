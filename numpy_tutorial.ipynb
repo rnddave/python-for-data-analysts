{
 "cells": [
  {
   "cell_type": "markdown",
   "metadata": {},
   "source": [
    "# NumPy\n",
    "\n",
    "The tutorial on NumPy is heavily borrowed from the NumPy website; [https://numpy.org/devdocs/user/quickstart.html](https://numpy.org/devdocs/user/quickstart.html)\n",
    "\n",
    "NumPy (num-pie) or \"Numerical Python\" is a Python library that undergirds almost all of Python's advanced mathematical and statistical functions. You might not use it too much directly but you'll be interacting with it constantly through other libraries. \n",
    "\n",
    "The core of NumPy are the NumPy arrays which are kind of like very advanced Python Lists."
   ]
  },
  {
   "cell_type": "code",
   "execution_count": 2,
   "metadata": {},
   "outputs": [
    {
     "data": {
      "text/plain": [
       "array([2, 3, 4])"
      ]
     },
     "execution_count": 2,
     "metadata": {},
     "output_type": "execute_result"
    }
   ],
   "source": [
    "import numpy as np\n",
    "\n",
    "a = np.array([2, 3, 4])\n",
    "\n",
    "a"
   ]
  },
  {
   "cell_type": "markdown",
   "metadata": {},
   "source": [
    "Make sure you use a list to create an array, the below is wrong\n",
    "\n",
    "> b = np.array(2, 3, 4)"
   ]
  },
  {
   "cell_type": "code",
   "execution_count": 5,
   "metadata": {},
   "outputs": [
    {
     "data": {
      "text/plain": [
       "array([[2, 3, 4],\n",
       "       [5, 6, 2]])"
      ]
     },
     "execution_count": 5,
     "metadata": {},
     "output_type": "execute_result"
    }
   ],
   "source": [
    "c = np.array([2, 3, 4, 5, 6, 2]).reshape(2, 3)\n",
    "c"
   ]
  },
  {
   "cell_type": "code",
   "execution_count": 7,
   "metadata": {},
   "outputs": [
    {
     "data": {
      "text/plain": [
       "array([[ 12,  34,  56],\n",
       "       [ 78,  90, 113],\n",
       "       [ 14,  15,  16]])"
      ]
     },
     "execution_count": 7,
     "metadata": {},
     "output_type": "execute_result"
    }
   ],
   "source": [
    "c2 = np.array([12,34,56,78,90,113,14,15,16]).reshape(3,3)\n",
    "c2"
   ]
  },
  {
   "cell_type": "markdown",
   "metadata": {},
   "source": [
    "## In the code blocks below d(x) are a 3-dimensional arrays"
   ]
  },
  {
   "cell_type": "code",
   "execution_count": 7,
   "metadata": {},
   "outputs": [
    {
     "data": {
      "text/plain": [
       "array([[[12, 23],\n",
       "        [34, 45]],\n",
       "\n",
       "       [[34, 12],\n",
       "        [34, 45]],\n",
       "\n",
       "       [[12, 12],\n",
       "        [12, 12]]])"
      ]
     },
     "execution_count": 7,
     "metadata": {},
     "output_type": "execute_result"
    }
   ],
   "source": [
    "d = np.array([12,23,34,45,34,12,34,45,12,12,12,12]).reshape(3,2,2)\n",
    "d"
   ]
  },
  {
   "cell_type": "markdown",
   "metadata": {},
   "source": [
    "reshape = 3* 2x2\n",
    "\n",
    "array([[[12, 23],\n",
    "        [34, 45]],\n",
    "\n",
    "       [[34, 12],\n",
    "        [34, 45]],\n",
    "\n",
    "       [[12, 12],\n",
    "        [12, 12]]])\n",
    "\n",
    "below, is a 2* 3x2 array"
   ]
  },
  {
   "cell_type": "code",
   "execution_count": 8,
   "metadata": {},
   "outputs": [
    {
     "data": {
      "text/plain": [
       "array([[[12, 23],\n",
       "        [34, 45],\n",
       "        [34, 12]],\n",
       "\n",
       "       [[34, 45],\n",
       "        [12, 12],\n",
       "        [12, 12]]])"
      ]
     },
     "execution_count": 8,
     "metadata": {},
     "output_type": "execute_result"
    }
   ],
   "source": [
    "d2 = np.array([12,23,34,45,34,12,34,45,12,12,12,12]).reshape(2,3,2)\n",
    "d2"
   ]
  },
  {
   "cell_type": "code",
   "execution_count": 6,
   "metadata": {},
   "outputs": [
    {
     "data": {
      "text/plain": [
       "array([[[2, 3],\n",
       "        [4, 5]],\n",
       "\n",
       "       [[6, 2],\n",
       "        [3, 5]]])"
      ]
     },
     "execution_count": 6,
     "metadata": {},
     "output_type": "execute_result"
    }
   ],
   "source": [
    "d3 = np.array([2, 3, 4, 5, 6, 2, 3, 5]).reshape(2, 2, 2)\n",
    "d3"
   ]
  },
  {
   "cell_type": "markdown",
   "metadata": {},
   "source": [
    "# NumPy Calculations"
   ]
  },
  {
   "cell_type": "code",
   "execution_count": 11,
   "metadata": {},
   "outputs": [
    {
     "name": "stdout",
     "output_type": "stream",
     "text": [
      "21\n",
      "1\n",
      "6\n",
      "3.5\n",
      "30\n",
      "2\n",
      "6\n",
      "3.75\n"
     ]
    }
   ],
   "source": [
    "e = np.array([1,2,3,4,5,6])\n",
    "\n",
    "print(e.sum())\n",
    "print(e.min())\n",
    "print(e.max())\n",
    "print(e.mean())\n",
    "\n",
    "e2 = np.array([2, 3, 4, 5, 6, 2, 3, 5]).reshape(2, 2, 2)\n",
    "\n",
    "print(e2.sum())\n",
    "print(e2.min())\n",
    "print(e2.max())\n",
    "print(e2.mean())\n",
    "\n",
    "# interesting that the reshaped arrays do not affect the calculations"
   ]
  },
  {
   "cell_type": "markdown",
   "metadata": {},
   "source": [
    "### Special NumPy Arrays\n",
    "\n",
    "These are some useful arrays that you can quickly create in NumPy. Don't worry too much about learning them now but it'll be useful to have a cheatsheet of them nearby.\n",
    "\n",
    "np.zeros(5) # Creates an array of zeros with 5 elements\n",
    "np.linspace(0, 6, 10) # Creates an array of values from 0 through 6 in 10 even spaces\n",
    "np.random.rand(3) # Three random values between 0 and 1\n",
    "np.random.randint(1, 1000) # A random integer between 1 and 1000\n",
    "np.arange(25) # Like the \"Range\" function we learned earlier, this is gives you a range of integers between 1 - 25"
   ]
  },
  {
   "cell_type": "code",
   "execution_count": 12,
   "metadata": {},
   "outputs": [
    {
     "name": "stdout",
     "output_type": "stream",
     "text": [
      "[0. 0. 0. 0. 0.]\n",
      "[0.         0.66666667 1.33333333 2.         2.66666667 3.33333333\n",
      " 4.         4.66666667 5.33333333 6.        ]\n",
      "[0.00756608 0.49058303 0.13162369]\n",
      "541\n",
      "[ 0  1  2  3  4  5  6  7  8  9 10 11 12 13 14 15 16 17 18 19 20 21 22 23\n",
      " 24]\n"
     ]
    }
   ],
   "source": [
    "print(np.zeros(5)) # Creates an array of zeros with 5 elements\n",
    "print(np.linspace(0, 6, 10)) # Creates an array of values from 0 through 6 in 10 even spaces\n",
    "print(np.random.rand(3)) # Three random values between 0 and 1\n",
    "print(np.random.randint(1, 1000)) # A random integer between 1 and 1000\n",
    "print(np.arange(25)) # Like the \"Range\" function we learned earlier, this is gives you a range of integers between 1 - 25"
   ]
  }
 ],
 "metadata": {
  "kernelspec": {
   "display_name": "Python 3.9.13 ('base')",
   "language": "python",
   "name": "python3"
  },
  "language_info": {
   "codemirror_mode": {
    "name": "ipython",
    "version": 3
   },
   "file_extension": ".py",
   "mimetype": "text/x-python",
   "name": "python",
   "nbconvert_exporter": "python",
   "pygments_lexer": "ipython3",
   "version": "3.9.13"
  },
  "orig_nbformat": 4,
  "vscode": {
   "interpreter": {
    "hash": "29ba88fc74c30cfb08fb6ce3b25c2ccd724cd11e96a643650e6c772fb9859a2d"
   }
  }
 },
 "nbformat": 4,
 "nbformat_minor": 2
}
